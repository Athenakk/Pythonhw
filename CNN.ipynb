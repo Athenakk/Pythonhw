{
 "cells": [
  {
   "cell_type": "code",
   "execution_count": 2,
   "metadata": {},
   "outputs": [
    {
     "name": "stdout",
     "output_type": "stream",
     "text": [
      "env: KERAS_BACKEND=tensorflow\n"
     ]
    }
   ],
   "source": [
    "%env KERAS_BACKEND=tensorflow"
   ]
  },
  {
   "cell_type": "code",
   "execution_count": 3,
   "metadata": {},
   "outputs": [
    {
     "name": "stderr",
     "output_type": "stream",
     "text": [
      "Using TensorFlow backend.\n"
     ]
    }
   ],
   "source": [
    "%matplotlib inline\n",
    "\n",
    "import numpy as np\n",
    "import matplotlib.pyplot as plt\n",
    "from keras.datasets import mnist\n",
    "from keras.utils import np_utils"
   ]
  },
  {
   "cell_type": "code",
   "execution_count": 4,
   "metadata": {},
   "outputs": [],
   "source": [
    "(x_train,y_train),(x_test,y_test)=mnist.load_data()\n",
    "x_train = x_train.reshape(60000,28,28,1)\n",
    "x_test = x_test.reshape(10000,28,28,1)"
   ]
  },
  {
   "cell_type": "code",
   "execution_count": 5,
   "metadata": {},
   "outputs": [
    {
     "data": {
      "text/plain": [
       "(28, 28, 1)"
      ]
     },
     "execution_count": 5,
     "metadata": {},
     "output_type": "execute_result"
    }
   ],
   "source": [
    "x_train[1234].shape"
   ]
  },
  {
   "cell_type": "code",
   "execution_count": 6,
   "metadata": {},
   "outputs": [],
   "source": [
    "y_train = np_utils.to_categorical(y_train,10)\n",
    "y_test = np_utils.to_categorical(y_test,10)\n",
    "x_train =x_train/255\n",
    "x_test = x_test/255"
   ]
  },
  {
   "cell_type": "code",
   "execution_count": 7,
   "metadata": {},
   "outputs": [],
   "source": [
    "from keras.models import Sequential\n",
    "from keras.layers import Dense,Activation, Flatten\n",
    "from keras.layers import Conv2D,MaxPool2D\n",
    "from keras.optimizers import SGD"
   ]
  },
  {
   "cell_type": "code",
   "execution_count": 26,
   "metadata": {},
   "outputs": [],
   "source": [
    "model =Sequential()\n",
    "model.add(Conv2D(6,(4,4),padding='same',input_shape=(28,28,1))) #flliter\n",
    "model.add(Activation('relu'))\n",
    "model.add(MaxPool2D(pool_size=(2,2)))\n",
    "model.add(Conv2D(12,(4,4),padding='same')) #flliter\n",
    "model.add(Activation('relu'))\n",
    "model.add(MaxPool2D(pool_size=(2,2)))\n",
    "model.add(Conv2D(24,(4,4),padding='same')) #flliter\n",
    "model.add(Activation('relu'))\n",
    "model.add(MaxPool2D(pool_size=(2,2)))\n",
    "model.add(Conv2D(36,(4,4),padding='same')) #flliter\n",
    "model.add(Activation('relu'))\n",
    "model.add(MaxPool2D(pool_size=(2,2)))\n",
    "model.add(Flatten())\n",
    "model.add(Dense(15))\n",
    "model.add(Activation('relu'))\n",
    "model.add(Dense(10))\n",
    "model.add(Activation('softmax'))\n",
    "model.compile(loss='mse',optimizer=SGD(lr=0.09),metrics=['accuracy'])"
   ]
  },
  {
   "cell_type": "code",
   "execution_count": 27,
   "metadata": {},
   "outputs": [
    {
     "name": "stdout",
     "output_type": "stream",
     "text": [
      "_________________________________________________________________\n",
      "Layer (type)                 Output Shape              Param #   \n",
      "=================================================================\n",
      "conv2d_25 (Conv2D)           (None, 28, 28, 6)         102       \n",
      "_________________________________________________________________\n",
      "activation_37 (Activation)   (None, 28, 28, 6)         0         \n",
      "_________________________________________________________________\n",
      "max_pooling2d_25 (MaxPooling (None, 14, 14, 6)         0         \n",
      "_________________________________________________________________\n",
      "conv2d_26 (Conv2D)           (None, 14, 14, 12)        1164      \n",
      "_________________________________________________________________\n",
      "activation_38 (Activation)   (None, 14, 14, 12)        0         \n",
      "_________________________________________________________________\n",
      "max_pooling2d_26 (MaxPooling (None, 7, 7, 12)          0         \n",
      "_________________________________________________________________\n",
      "conv2d_27 (Conv2D)           (None, 7, 7, 24)          4632      \n",
      "_________________________________________________________________\n",
      "activation_39 (Activation)   (None, 7, 7, 24)          0         \n",
      "_________________________________________________________________\n",
      "max_pooling2d_27 (MaxPooling (None, 3, 3, 24)          0         \n",
      "_________________________________________________________________\n",
      "conv2d_28 (Conv2D)           (None, 3, 3, 36)          13860     \n",
      "_________________________________________________________________\n",
      "activation_40 (Activation)   (None, 3, 3, 36)          0         \n",
      "_________________________________________________________________\n",
      "max_pooling2d_28 (MaxPooling (None, 1, 1, 36)          0         \n",
      "_________________________________________________________________\n",
      "flatten_7 (Flatten)          (None, 36)                0         \n",
      "_________________________________________________________________\n",
      "dense_13 (Dense)             (None, 15)                555       \n",
      "_________________________________________________________________\n",
      "activation_41 (Activation)   (None, 15)                0         \n",
      "_________________________________________________________________\n",
      "dense_14 (Dense)             (None, 10)                160       \n",
      "_________________________________________________________________\n",
      "activation_42 (Activation)   (None, 10)                0         \n",
      "=================================================================\n",
      "Total params: 20,473\n",
      "Trainable params: 20,473\n",
      "Non-trainable params: 0\n",
      "_________________________________________________________________\n"
     ]
    }
   ],
   "source": [
    "model.summary()"
   ]
  },
  {
   "cell_type": "code",
   "execution_count": 28,
   "metadata": {},
   "outputs": [
    {
     "name": "stdout",
     "output_type": "stream",
     "text": [
      "Epoch 1/15\n",
      "60000/60000 [==============================] - 12s 196us/step - loss: 0.0900 - acc: 0.1060\n",
      "Epoch 2/15\n",
      "60000/60000 [==============================] - 11s 191us/step - loss: 0.0899 - acc: 0.1475\n",
      "Epoch 3/15\n",
      "60000/60000 [==============================] - 11s 191us/step - loss: 0.0897 - acc: 0.1823\n",
      "Epoch 4/15\n",
      "60000/60000 [==============================] - 11s 190us/step - loss: 0.0892 - acc: 0.1903\n",
      "Epoch 5/15\n",
      "60000/60000 [==============================] - 11s 191us/step - loss: 0.0880 - acc: 0.2051\n",
      "Epoch 6/15\n",
      "60000/60000 [==============================] - 11s 192us/step - loss: 0.0815 - acc: 0.3331\n",
      "Epoch 7/15\n",
      "60000/60000 [==============================] - 11s 192us/step - loss: 0.0574 - acc: 0.5648\n",
      "Epoch 8/15\n",
      "60000/60000 [==============================] - 11s 191us/step - loss: 0.0349 - acc: 0.7557\n",
      "Epoch 9/15\n",
      "60000/60000 [==============================] - 11s 191us/step - loss: 0.0215 - acc: 0.8562\n",
      "Epoch 10/15\n",
      "60000/60000 [==============================] - 11s 190us/step - loss: 0.0148 - acc: 0.9037\n",
      "Epoch 11/15\n",
      "60000/60000 [==============================] - 11s 191us/step - loss: 0.0116 - acc: 0.9253\n",
      "Epoch 12/15\n",
      "60000/60000 [==============================] - 11s 191us/step - loss: 0.0095 - acc: 0.9387\n",
      "Epoch 13/15\n",
      "60000/60000 [==============================] - 11s 191us/step - loss: 0.0083 - acc: 0.9471\n",
      "Epoch 14/15\n",
      "60000/60000 [==============================] - 11s 192us/step - loss: 0.0074 - acc: 0.9525\n",
      "Epoch 15/15\n",
      "60000/60000 [==============================] - 12s 192us/step - loss: 0.0067 - acc: 0.9568\n"
     ]
    }
   ],
   "source": [
    "conv=model.fit(x_train,y_train,batch_size=100,epochs=15)"
   ]
  },
  {
   "cell_type": "code",
   "execution_count": 30,
   "metadata": {},
   "outputs": [
    {
     "name": "stdout",
     "output_type": "stream",
     "text": [
      "10000/10000 [==============================] - 1s 133us/step\n",
      "測試資料的 loss: 0.006795\n",
      "測試資料的正確率: 0.955500\n"
     ]
    }
   ],
   "source": [
    "score = model.evaluate(x_test,y_test)\n",
    "score[1]\n",
    "print('測試資料的 loss: %f'%(score[0]))\n",
    "print('測試資料的正確率: %f'%(score[1]))"
   ]
  },
  {
   "cell_type": "code",
   "execution_count": 31,
   "metadata": {},
   "outputs": [
    {
     "ename": "NameError",
     "evalue": "name 'model_conv' is not defined",
     "output_type": "error",
     "traceback": [
      "\u001b[1;31m---------------------------------------------------------------------------\u001b[0m",
      "\u001b[1;31mNameError\u001b[0m                                 Traceback (most recent call last)",
      "\u001b[1;32m<ipython-input-31-f8108f97ef2b>\u001b[0m in \u001b[0;36m<module>\u001b[1;34m\u001b[0m\n\u001b[1;32m----> 1\u001b[1;33m \u001b[0mplt\u001b[0m\u001b[1;33m.\u001b[0m\u001b[0mplot\u001b[0m\u001b[1;33m(\u001b[0m\u001b[0mmodel_conv\u001b[0m\u001b[1;33m.\u001b[0m\u001b[0mhistory\u001b[0m\u001b[1;33m[\u001b[0m\u001b[1;34m'acc'\u001b[0m\u001b[1;33m]\u001b[0m\u001b[1;33m)\u001b[0m\u001b[1;33m\u001b[0m\u001b[1;33m\u001b[0m\u001b[0m\n\u001b[0m\u001b[0;32m      2\u001b[0m \u001b[0mplt\u001b[0m\u001b[1;33m.\u001b[0m\u001b[0mtitle\u001b[0m\u001b[1;33m(\u001b[0m\u001b[1;34m'model accuracy'\u001b[0m\u001b[1;33m)\u001b[0m\u001b[1;33m\u001b[0m\u001b[1;33m\u001b[0m\u001b[0m\n\u001b[0;32m      3\u001b[0m \u001b[0mplt\u001b[0m\u001b[1;33m.\u001b[0m\u001b[0mylabel\u001b[0m\u001b[1;33m(\u001b[0m\u001b[1;34m'accuracy'\u001b[0m\u001b[1;33m)\u001b[0m\u001b[1;33m\u001b[0m\u001b[1;33m\u001b[0m\u001b[0m\n\u001b[0;32m      4\u001b[0m \u001b[0mplt\u001b[0m\u001b[1;33m.\u001b[0m\u001b[0mxlabel\u001b[0m\u001b[1;33m(\u001b[0m\u001b[1;34m'epoch'\u001b[0m\u001b[1;33m)\u001b[0m\u001b[1;33m\u001b[0m\u001b[1;33m\u001b[0m\u001b[0m\n\u001b[0;32m      5\u001b[0m \u001b[0mplt\u001b[0m\u001b[1;33m.\u001b[0m\u001b[0mlegend\u001b[0m\u001b[1;33m(\u001b[0m\u001b[1;33m[\u001b[0m\u001b[1;34m\"accuracy\"\u001b[0m\u001b[1;33m]\u001b[0m\u001b[1;33m,\u001b[0m\u001b[0mloc\u001b[0m \u001b[1;33m=\u001b[0m \u001b[1;34m\"best\"\u001b[0m\u001b[1;33m)\u001b[0m\u001b[1;33m\u001b[0m\u001b[1;33m\u001b[0m\u001b[0m\n",
      "\u001b[1;31mNameError\u001b[0m: name 'model_conv' is not defined"
     ]
    }
   ],
   "source": [
    "plt.plot(model_conv.history['acc'])\n",
    "plt.title('model accuracy')\n",
    "plt.ylabel('accuracy')\n",
    "plt.xlabel('epoch')\n",
    "plt.legend([\"accuracy\"],loc = \"best\")\n",
    "plt.show"
   ]
  },
  {
   "cell_type": "code",
   "execution_count": null,
   "metadata": {},
   "outputs": [],
   "source": []
  }
 ],
 "metadata": {
  "kernelspec": {
   "display_name": "Python 3",
   "language": "python",
   "name": "python3"
  },
  "language_info": {
   "codemirror_mode": {
    "name": "ipython",
    "version": 3
   },
   "file_extension": ".py",
   "mimetype": "text/x-python",
   "name": "python",
   "nbconvert_exporter": "python",
   "pygments_lexer": "ipython3",
   "version": "3.6.7"
  }
 },
 "nbformat": 4,
 "nbformat_minor": 2
}
